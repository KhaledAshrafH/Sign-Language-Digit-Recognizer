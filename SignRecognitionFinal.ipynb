{
  "cells": [
    {
      "cell_type": "code",
      "execution_count": null,
      "metadata": {
        "colab": {
          "base_uri": "https://localhost:8080/"
        },
        "id": "T06uVeiAghgQ",
        "outputId": "ab2db6d7-b716-4003-d13e-c690e506bf08"
      },
      "outputs": [],
      "source": [
        "!git clone https://github.com/ardamavi/Sign-Language-Digits-Dataset"
      ]
    },
    {
      "cell_type": "code",
      "execution_count": null,
      "metadata": {
        "colab": {
          "base_uri": "https://localhost:8080/"
        },
        "id": "NASNRyxbVLv-",
        "outputId": "334c1fc2-0124-4d78-91b6-c7c62b201205"
      },
      "outputs": [],
      "source": [
        "pip install fpdf"
      ]
    },
    {
      "cell_type": "code",
      "execution_count": null,
      "metadata": {
        "id": "yWE83WR5tokN"
      },
      "outputs": [],
      "source": [
        "!unzip Dataset.zip"
      ]
    },
    {
      "cell_type": "code",
      "execution_count": 1,
      "metadata": {
        "id": "c8GIWaNm39Km"
      },
      "outputs": [],
      "source": [
        "import tensorflow as tf\n",
        "import pandas as pd\n",
        "import numpy as np\n",
        "import cv2\n",
        "import random\n",
        "\n",
        "from sklearn.model_selection import train_test_split,KFold,cross_val_score\n",
        "from keras import backend as K\n",
        "from os import listdir\n",
        "from datetime import date\n",
        "from datetime import datetime\n",
        "from fpdf import FPDF\n",
        "from matplotlib import pyplot as plt\n",
        "from keras.wrappers.scikit_learn import KerasClassifier\n",
        "from sklearn.metrics import accuracy_score,precision_score,recall_score,f1_score\n",
        "\n",
        "%matplotlib inline"
      ]
    },
    {
      "cell_type": "markdown",
      "metadata": {
        "id": "guXtCyxRVoQH"
      },
      "source": [
        "# **Function For Reading The Dataset**"
      ]
    },
    {
      "cell_type": "code",
      "execution_count": 2,
      "metadata": {
        "id": "XN4w-l7w3_7B"
      },
      "outputs": [],
      "source": [
        "num_of_classes = 10\n",
        "image_size = 100\n",
        "\n",
        "def get_data(dataset_path='Sign-Language-Digits-Dataset/Dataset',is_color=0,is_NN=1):\n",
        "    digits = \"0123456789\"\n",
        "    X = []\n",
        "    Y = []\n",
        "    for digit in digits:\n",
        "        images = dataset_path+'/'+digit\n",
        "        for image in listdir(images):\n",
        "          img = cv2.imread(images+'/'+image,is_color)\n",
        "          img = cv2.resize(img, (image_size, image_size))\n",
        "          X.append(img)\n",
        "          Y.append(digit)\n",
        "    X = np.array(X)\n",
        "    Y = np.array(Y)\n",
        "    if is_color==1:\n",
        "      Avg = np.average(X)\n",
        "      X = X - Avg\n",
        "    X = (X / 255)\n",
        "    # Conver simple output to NN output\n",
        "    if is_NN==1:\n",
        "      Y = tf.keras.utils.to_categorical(Y, num_of_classes)\n",
        "    return X, Y\n"
      ]
    },
    {
      "cell_type": "markdown",
      "metadata": {
        "id": "pI8peGnaDyju"
      },
      "source": [
        "# **Measurements (recall, precision, fscore)**"
      ]
    },
    {
      "cell_type": "code",
      "execution_count": 3,
      "metadata": {
        "id": "DzI0ECYXD8C_"
      },
      "outputs": [],
      "source": [
        "def recall_m(y_true, y_pred):\n",
        "    true_positives = K.sum(K.round(K.clip(y_true * y_pred, 0, 1)))\n",
        "    possible_positives = K.sum(K.round(K.clip(y_true, 0, 1)))\n",
        "    recall = true_positives / (possible_positives + K.epsilon())\n",
        "    return recall\n",
        "\n",
        "def precision_m(y_true, y_pred):\n",
        "    true_positives = K.sum(K.round(K.clip(y_true * y_pred, 0, 1)))\n",
        "    predicted_positives = K.sum(K.round(K.clip(y_pred, 0, 1)))\n",
        "    precision = true_positives / (predicted_positives + K.epsilon())\n",
        "    return precision\n",
        "\n",
        "def f1_m(y_true, y_pred):\n",
        "    precision = precision_m(y_true, y_pred)\n",
        "    recall = recall_m(y_true, y_pred)\n",
        "    return 2*((precision*recall)/(precision+recall+K.epsilon()))"
      ]
    },
    {
      "cell_type": "markdown",
      "metadata": {
        "id": "fghT4XcAXo3k"
      },
      "source": [
        "# **PDF Report**"
      ]
    },
    {
      "cell_type": "code",
      "execution_count": 4,
      "metadata": {
        "id": "jDVcYwQHXoLg"
      },
      "outputs": [],
      "source": [
        "class PDF(FPDF):\n",
        "    def __init__(self):\n",
        "        super().__init__()\n",
        "\n",
        "    def header(self):\n",
        "        self.set_font('Arial', '', 12)\n",
        "        # self.cell(0, 8, 'KNN Implementation Report', 0, 1, 'C')\n",
        "\n",
        "    def footer(self):\n",
        "        self.set_y(-15)\n",
        "        self.set_font('Arial', '', 12)\n",
        "        self.cell(0, 8, f'Page {self.page_no()}', 0, 0, 'C')"
      ]
    },
    {
      "cell_type": "markdown",
      "metadata": {
        "id": "AnJdyP7Wd9yx"
      },
      "source": [
        "## **Reading The Dataset**"
      ]
    },
    {
      "cell_type": "code",
      "execution_count": 22,
      "metadata": {
        "colab": {
          "base_uri": "https://localhost:8080/"
        },
        "id": "j8dOo3nIeBEB",
        "outputId": "ec9aa67c-8671-438b-cf91-ca9e300df209"
      },
      "outputs": [
        {
          "name": "stdout",
          "output_type": "stream",
          "text": [
            "x train:  (1649, 100, 100, 3)\n",
            "x test:  (413, 100, 100, 3)\n",
            "y train:  (1649, 10)\n",
            "y test:  (413, 10)\n"
          ]
        }
      ],
      "source": [
        "X,Y = get_data(is_NN=1,is_color=1)\n",
        "\n",
        "X, Y = np.array(X), np.array(Y)\n",
        "\n",
        "X_train, X_test, Y_train, Y_test = train_test_split(X, Y, test_size = 0.2 , random_state = 15)\n",
        "\n",
        "print(\"x train: \",X_train.shape)\n",
        "print(\"x test: \",X_test.shape)\n",
        "print(\"y train: \",Y_train.shape)\n",
        "print(\"y test: \",Y_test.shape)"
      ]
    },
    {
      "cell_type": "markdown",
      "metadata": {
        "id": "AeQnqhUUUih4"
      },
      "source": [
        "# **Feedforward Neural Network Architecture**"
      ]
    },
    {
      "cell_type": "markdown",
      "metadata": {
        "id": "rKvFZm0Vdqey"
      },
      "source": [
        "## **Building The Model**"
      ]
    },
    {
      "cell_type": "code",
      "execution_count": null,
      "metadata": {
        "colab": {
          "base_uri": "https://localhost:8080/"
        },
        "id": "LUfIfRtAhi8H",
        "outputId": "e0da444d-98ec-4165-d53d-c828d96a5272"
      },
      "outputs": [],
      "source": [
        "def build_FFNN():\n",
        "    model1 = tf.keras.models.Sequential([\n",
        "    tf.keras.layers.Flatten(),\n",
        "    tf.keras.layers.Dense(2048, activation=tf.nn.relu),\n",
        "    tf.keras.layers.Dropout(0.3),\n",
        "    tf.keras.layers.Dense(1024, activation=tf.nn.relu),\n",
        "    tf.keras.layers.Dropout(0.2),\n",
        "    tf.keras.layers.Dense(512, activation=tf.nn.relu),\n",
        "    tf.keras.layers.Dense(num_of_classes, activation=tf.nn.softmax)\n",
        "    ])\n",
        "  \n",
        "    model1.compile(optimizer=tf.keras.optimizers.Adam(learning_rate=0.0001), loss='categorical_crossentropy', metrics=['accuracy',f1_m,precision_m, recall_m])\n",
        "    return model1\n",
        "\n",
        "k_folds = KFold(n_splits = 3)\n",
        "classifier = KerasClassifier(build_fn = build_FFNN, epochs = 150,batch_size=64)\n",
        "accuracies = cross_val_score(estimator = classifier, X = X_train, y = Y_train, cv = k_folds)\n",
        "\n",
        "model1 = build_FFNN()\n",
        "model1.fit(X_train, Y_train, epochs=150,batch_size=64)\n",
        "model1.save('save/FFNN_Saved')\n",
        "# model = tf.keras.models.load_model('save/savedModel')"
      ]
    },
    {
      "cell_type": "markdown",
      "metadata": {
        "id": "jBrcOcObd3uY"
      },
      "source": [
        "## **Testing The Model**"
      ]
    },
    {
      "cell_type": "code",
      "execution_count": 12,
      "metadata": {
        "colab": {
          "base_uri": "https://localhost:8080/"
        },
        "id": "K7m9UK94hmLg",
        "outputId": "69d4751e-8185-4e20-939b-1c7ebfeb5b19"
      },
      "outputs": [
        {
          "name": "stdout",
          "output_type": "stream",
          "text": [
            "Accuracies: [0.75636363 0.77272725 0.75409836]\n",
            "Accuracy Variance: 0.008299499934341415\n",
            "Accuracy Mean: 80.0%\n",
            "52/52 [==============================] - 0s 4ms/step - loss: 0.2673 - accuracy: 0.9327 - f1_m: 0.9283 - precision_m: 0.9679 - recall_m: 0.8932\n",
            "13/13 [==============================] - 0s 4ms/step - loss: 0.5344 - accuracy: 0.8523 - f1_m: 0.8285 - precision_m: 0.8885 - recall_m: 0.7774\n",
            "Training Accuaracy: 93.3%\n",
            "Testing Accuaracy: 85.2%\n",
            "Precision: 0.8884928226470947\n",
            "Recall: 0.7773541212081909\n",
            "F1 score: 0.8285248279571533\n",
            "Model: \"sequential_11\"\n",
            "_________________________________________________________________\n",
            " Layer (type)                Output Shape              Param #   \n",
            "=================================================================\n",
            " flatten_7 (Flatten)         (None, 10000)             0         \n",
            "                                                                 \n",
            " dense_36 (Dense)            (None, 2048)              20482048  \n",
            "                                                                 \n",
            " dropout_14 (Dropout)        (None, 2048)              0         \n",
            "                                                                 \n",
            " dense_37 (Dense)            (None, 1024)              2098176   \n",
            "                                                                 \n",
            " dropout_15 (Dropout)        (None, 1024)              0         \n",
            "                                                                 \n",
            " dense_38 (Dense)            (None, 512)               524800    \n",
            "                                                                 \n",
            " dense_39 (Dense)            (None, 10)                5130      \n",
            "                                                                 \n",
            "=================================================================\n",
            "Total params: 23,110,154\n",
            "Trainable params: 23,110,154\n",
            "Non-trainable params: 0\n",
            "_________________________________________________________________\n",
            "None\n"
          ]
        }
      ],
      "source": [
        "FFNN_Str= ''\n",
        "FFNN_Str_Table = ''\n",
        "print(f\"Accuracies: {accuracies}\" )\n",
        "print(f\"Accuracy Variance: {accuracies.std()}\" )\n",
        "print(f\"Accuracy Mean: {round(accuracies.mean(),1)*100}%\")\n",
        "\n",
        "training_score = model1.evaluate(X_train, Y_train)\n",
        "testing_score = model1.evaluate(X_test, Y_test)\n",
        "\n",
        "print(f'Training Accuaracy: {round(training_score[1]*100,1)}%')\n",
        "print(f'Testing Accuaracy: {round(testing_score[1]*100,1)}%')\n",
        "print(f'Precision: {testing_score[3]}')\n",
        "print(f'Recall: {testing_score[4]}')\n",
        "print(f'F1 score: {testing_score[2]}')\n",
        "print(model1.summary())\n",
        "\n",
        "FFNN_Str+=('Accuracies: '+ str(accuracies)+ '\\n\\n')\n",
        "FFNN_Str+=('Accuracy Variance: '+ str(accuracies.std())+ '\\n\\n')\n",
        "FFNN_Str+=('Accuracy Mean: '+ str(round(accuracies.mean(),1)*100)+ '%\\n\\n\\n')\n",
        "\n",
        "FFNN_Str+=('Training Accuaracy: '+ str(round(training_score[1]*100,1))+ '%\\n\\n')\n",
        "FFNN_Str+=('Testing Accuaracy: '+ str(round(testing_score[1]*100,1))+ '%\\n\\n')\n",
        "FFNN_Str+=('Precision: '+ str(testing_score[3])+ '\\n\\n')\n",
        "FFNN_Str+=('Recall: '+ str(testing_score[4])+ '\\n\\n')\n",
        "FFNN_Str+=('F1 score: '+ str(testing_score[2])+ '\\n\\n')\n",
        "\n",
        "stringlist = []\n",
        "model1.summary(print_fn=lambda x: stringlist.append(x))\n",
        "short_model_summary = \"\\n\".join(stringlist)\n",
        "\n",
        "FFNN_Str_Table+=str('\\n'+short_model_summary)"
      ]
    },
    {
      "cell_type": "markdown",
      "metadata": {
        "id": "0AhJzvhMV-j5"
      },
      "source": [
        "# **Long Short Term Memory (LSTM) Architecture**"
      ]
    },
    {
      "cell_type": "markdown",
      "metadata": {
        "id": "bRnmJgv3IUv4"
      },
      "source": [
        "## **Building The Model**"
      ]
    },
    {
      "cell_type": "code",
      "execution_count": null,
      "metadata": {
        "colab": {
          "base_uri": "https://localhost:8080/"
        },
        "id": "5wpVe4VIWI7v",
        "outputId": "20cbdfb0-edba-4778-ed0c-9a7914a291bf"
      },
      "outputs": [],
      "source": [
        "from sklearn.model_selection import KFold\n",
        "\n",
        "def build_LSTM():\n",
        "  model2 = tf.keras.models.Sequential([tf.keras.layers.LSTM(128),\n",
        "                                     tf.keras.layers.Dense(64, activation=\"relu\"),\n",
        "                                     tf.keras.layers.Dense(num_of_classes, activation=\"sigmoid\")])\n",
        "  model2.compile(optimizer='adam', loss='categorical_crossentropy', metrics=['accuracy',f1_m,precision_m, recall_m])\n",
        "  return model2\n",
        "\n",
        "\n",
        "k_folds = KFold(n_splits = 3)\n",
        "classifier = KerasClassifier(build_fn = build_LSTM, epochs = 150,batch_size=64)\n",
        "accuracies = cross_val_score(estimator = classifier, X = X_train, y = Y_train, cv = k_folds)\n",
        "\n",
        "model2 = build_LSTM()\n",
        "model2.fit(X_train, Y_train, epochs=150, batch_size=64)\n",
        "model2.save('save/LSTM_Saved')\n",
        "# model = tf.keras.models.load_model('save/savedModel')"
      ]
    },
    {
      "cell_type": "markdown",
      "metadata": {
        "id": "Pu4V0EGQqhP8"
      },
      "source": [
        "## **Testing The Model**"
      ]
    },
    {
      "cell_type": "code",
      "execution_count": 14,
      "metadata": {
        "colab": {
          "base_uri": "https://localhost:8080/"
        },
        "id": "-4_ZJ3Q9WOS6",
        "outputId": "ab8e0c09-c408-4313-a812-f45ef4a3c232"
      },
      "outputs": [
        {
          "name": "stdout",
          "output_type": "stream",
          "text": [
            "Accuracies: [0.89272726 0.87454545 0.87613845]\n",
            "Accuracy Variance: 0.008221273435511225\n",
            "Accuracy Mean: 90.0%\n",
            "52/52 [==============================] - 1s 6ms/step - loss: 0.0083 - accuracy: 0.9994 - f1_m: 0.5023 - precision_m: 0.3356 - recall_m: 1.0000\n",
            "13/13 [==============================] - 0s 6ms/step - loss: 0.3520 - accuracy: 0.9153 - f1_m: 0.4964 - precision_m: 0.3315 - recall_m: 0.9904\n",
            "Training Accuaracy: 99.9%\n",
            "Testing Accuaracy: 91.5%\n",
            "Precision: 0.33148959279060364\n",
            "Recall: 0.9903846383094788\n",
            "F1 score: 0.49642473459243774\n",
            "Model: \"sequential_15\"\n",
            "_________________________________________________________________\n",
            " Layer (type)                Output Shape              Param #   \n",
            "=================================================================\n",
            " lstm_7 (LSTM)               (None, 128)               117248    \n",
            "                                                                 \n",
            " dense_46 (Dense)            (None, 64)                8256      \n",
            "                                                                 \n",
            " dense_47 (Dense)            (None, 10)                650       \n",
            "                                                                 \n",
            "=================================================================\n",
            "Total params: 126,154\n",
            "Trainable params: 126,154\n",
            "Non-trainable params: 0\n",
            "_________________________________________________________________\n",
            "None\n"
          ]
        }
      ],
      "source": [
        "LSTM_Str= ''\n",
        "LSTM_Str_Table = ''\n",
        "\n",
        "print(f\"Accuracies: {accuracies}\" )\n",
        "print(f\"Accuracy Variance: {accuracies.std()}\" )\n",
        "print(f\"Accuracy Mean: {round(accuracies.mean(),1)*100}%\")\n",
        "\n",
        "training_score = model2.evaluate(X_train, Y_train)\n",
        "testing_score = model2.evaluate(X_test, Y_test)\n",
        "\n",
        "print(f'Training Accuaracy: {round(training_score[1]*100,1)}%')\n",
        "print(f'Testing Accuaracy: {round(testing_score[1]*100,1)}%')\n",
        "print(f'Precision: {testing_score[3]}')\n",
        "print(f'Recall: {testing_score[4]}')\n",
        "print(f'F1 score: {testing_score[2]}')\n",
        "\n",
        "print(model2.summary())\n",
        "LSTM_Str+=('Accuracies: '+ str(accuracies)+ '\\n\\n')\n",
        "LSTM_Str+=('Accuracy Variance: '+ str(accuracies.std())+ '\\n\\n')\n",
        "LSTM_Str+=('Accuracy Mean: '+ str(round(accuracies.mean(),1)*100)+ '%\\n\\n\\n')\n",
        "\n",
        "LSTM_Str+=('Training Accuaracy: '+ str(round(training_score[1]*100,1))+ '%\\n\\n')\n",
        "LSTM_Str+=('Testing Accuaracy: '+ str(round(testing_score[1]*100,1))+ '%\\n\\n')\n",
        "LSTM_Str+=('Precision: '+ str(testing_score[3])+ '\\n\\n')\n",
        "LSTM_Str+=('Recall: '+ str(testing_score[4])+ '\\n\\n')\n",
        "LSTM_Str+=('F1 score: '+ str(testing_score[2])+ '\\n\\n')\n",
        "\n",
        "stringlist = []\n",
        "model2.summary(print_fn=lambda x: stringlist.append(x))\n",
        "short_model_summary = \"\\n\".join(stringlist)\n",
        "\n",
        "LSTM_Str_Table+=str('\\n'+short_model_summary)"
      ]
    },
    {
      "cell_type": "markdown",
      "metadata": {
        "id": "lzNfcQMBWO6A"
      },
      "source": [
        "# **Convolutional Neural Network(CNN) Architecture**"
      ]
    },
    {
      "cell_type": "markdown",
      "metadata": {
        "id": "2nz9U5TYeWVp"
      },
      "source": [
        "## **Building The Model**"
      ]
    },
    {
      "cell_type": "code",
      "execution_count": null,
      "metadata": {
        "colab": {
          "base_uri": "https://localhost:8080/"
        },
        "id": "kq8D7rAEWWJC",
        "outputId": "2390ce83-a9b3-47e1-c9b4-5041cd127eda"
      },
      "outputs": [],
      "source": [
        "def build_CNN():\n",
        "    model3 = tf.keras.models.Sequential([\n",
        "        tf.keras.layers.Conv2D(input_shape=(100, 100, 3), filters=32, kernel_size=(4,4), strides=(2)),\n",
        "        tf.keras.layers.Activation('relu'),\n",
        "        tf.keras.layers.MaxPooling2D(pool_size=2),\n",
        "\n",
        "        tf.keras.layers.Conv2D(filters=64, kernel_size=(4,4), strides=(1)),\n",
        "        tf.keras.layers.Activation('relu'),\n",
        "        tf.keras.layers.MaxPooling2D(pool_size=2),\n",
        "\n",
        "        tf.keras.layers.Dropout(0.7),\n",
        "        tf.keras.layers.Flatten(),\n",
        "        tf.keras.layers.BatchNormalization(),\n",
        "\n",
        "        tf.keras.layers.Dense(256, activation='relu'),\n",
        "        tf.keras.layers.Dropout(0.7),\n",
        "        tf.keras.layers.BatchNormalization(),\n",
        "        \n",
        "        tf.keras.layers.Dense(num_of_classes, activation='softmax')\n",
        "    ])\n",
        "    model3.compile(optimizer=tf.keras.optimizers.Adam(learning_rate=0.001), loss='categorical_crossentropy', metrics=['accuracy',f1_m,precision_m, recall_m])\n",
        "    return model3\n",
        "\n",
        "\n",
        "k_folds = KFold(n_splits = 3)\n",
        "classifier = KerasClassifier(build_fn = build_CNN, epochs = 50,batch_size=64)\n",
        "accuracies = cross_val_score(estimator = classifier, X = X_train, y = Y_train, cv = k_folds)\n",
        "\n",
        "\n",
        "model3 = build_CNN()\n",
        "model3.fit(X_train, Y_train, batch_size=64, epochs=50)\n",
        "model3.save('save/CNN_Saved')\n",
        "# model = tf.keras.models.load_model('save/savedModel')"
      ]
    },
    {
      "cell_type": "markdown",
      "metadata": {
        "id": "LUMkhpD7eYBp"
      },
      "source": [
        "## **Testing The Model**"
      ]
    },
    {
      "cell_type": "code",
      "execution_count": 24,
      "metadata": {
        "colab": {
          "base_uri": "https://localhost:8080/"
        },
        "id": "sqHEkWoXYl7J",
        "outputId": "1e5ddb3f-dbec-4d2d-af5f-fec6e9253dc5"
      },
      "outputs": [
        {
          "name": "stdout",
          "output_type": "stream",
          "text": [
            "Accuracies: [0.92909092 0.9218182  0.90892529]\n",
            "Accuracy Variance: 0.008338476416481857\n",
            "Accuracy Mean: 90.0%\n",
            "52/52 [==============================] - 1s 5ms/step - loss: 0.0059 - accuracy: 1.0000 - f1_m: 1.0000 - precision_m: 1.0000 - recall_m: 1.0000\n",
            "13/13 [==============================] - 0s 5ms/step - loss: 0.0967 - accuracy: 0.9734 - f1_m: 0.9707 - precision_m: 0.9754 - recall_m: 0.9661\n",
            "Training Accuaracy: 100.0%\n",
            "Testing Accuaracy: 97.3%\n",
            "Precision: 0.9754027128219604\n",
            "Recall: 0.9660974740982056\n",
            "F1 score: 0.9706761837005615\n",
            "Model: \"sequential_23\"\n",
            "_________________________________________________________________\n",
            " Layer (type)                Output Shape              Param #   \n",
            "=================================================================\n",
            " conv2d_14 (Conv2D)          (None, 49, 49, 32)        1568      \n",
            "                                                                 \n",
            " activation_14 (Activation)  (None, 49, 49, 32)        0         \n",
            "                                                                 \n",
            " max_pooling2d_14 (MaxPoolin  (None, 24, 24, 32)       0         \n",
            " g2D)                                                            \n",
            "                                                                 \n",
            " conv2d_15 (Conv2D)          (None, 21, 21, 64)        32832     \n",
            "                                                                 \n",
            " activation_15 (Activation)  (None, 21, 21, 64)        0         \n",
            "                                                                 \n",
            " max_pooling2d_15 (MaxPoolin  (None, 10, 10, 64)       0         \n",
            " g2D)                                                            \n",
            "                                                                 \n",
            " dropout_30 (Dropout)        (None, 10, 10, 64)        0         \n",
            "                                                                 \n",
            " flatten_15 (Flatten)        (None, 6400)              0         \n",
            "                                                                 \n",
            " batch_normalization_14 (Bat  (None, 6400)             25600     \n",
            " chNormalization)                                                \n",
            "                                                                 \n",
            " dense_62 (Dense)            (None, 256)               1638656   \n",
            "                                                                 \n",
            " dropout_31 (Dropout)        (None, 256)               0         \n",
            "                                                                 \n",
            " batch_normalization_15 (Bat  (None, 256)              1024      \n",
            " chNormalization)                                                \n",
            "                                                                 \n",
            " dense_63 (Dense)            (None, 10)                2570      \n",
            "                                                                 \n",
            "=================================================================\n",
            "Total params: 1,702,250\n",
            "Trainable params: 1,688,938\n",
            "Non-trainable params: 13,312\n",
            "_________________________________________________________________\n",
            "None\n"
          ]
        }
      ],
      "source": [
        "CNN_Str= ''\n",
        "CNN_Str_Table = ''\n",
        "\n",
        "print(f\"Accuracies: {accuracies}\" )\n",
        "print(f\"Accuracy Variance: {accuracies.std()}\" )\n",
        "print(f\"Accuracy Mean: {round(accuracies.mean(),1)*100}%\")\n",
        "\n",
        "training_score = model3.evaluate(X_train, Y_train)\n",
        "testing_score = model3.evaluate(X_test, Y_test)\n",
        "\n",
        "print(f'Training Accuaracy: {round(training_score[1]*100,1)}%')\n",
        "print(f'Testing Accuaracy: {round(testing_score[1]*100,1)}%')\n",
        "print(f'Precision: {testing_score[3]}')\n",
        "print(f'Recall: {testing_score[4]}')\n",
        "print(f'F1 score: {testing_score[2]}')\n",
        "\n",
        "print(model3.summary())\n",
        "CNN_Str+=('Accuracies: '+ str(accuracies)+ '\\n\\n')\n",
        "CNN_Str+=('Accuracy Variance: '+ str(accuracies.std())+ '\\n\\n')\n",
        "CNN_Str+=('Accuracy Mean: '+ str(round(accuracies.mean(),1)*100)+ '%\\n\\n\\n')\n",
        "\n",
        "CNN_Str+=('Training Accuaracy: '+ str(round(training_score[1]*100,1))+ '%\\n\\n')\n",
        "CNN_Str+=('Testing Accuaracy: '+ str(round(testing_score[1]*100,1))+ '%\\n\\n')\n",
        "CNN_Str+=('Precision: '+ str(testing_score[3])+ '\\n\\n')\n",
        "CNN_Str+=('Recall: '+ str(testing_score[4])+ '\\n\\n')\n",
        "CNN_Str+=('F1 score: '+ str(testing_score[2])+ '\\n\\n')\n",
        "\n",
        "stringlist = []\n",
        "model3.summary(print_fn=lambda x: stringlist.append(x))\n",
        "short_model_summary = \"\\n\".join(stringlist)\n",
        "\n",
        "CNN_Str_Table+=str('\\n'+short_model_summary)"
      ]
    },
    {
      "cell_type": "markdown",
      "metadata": {
        "id": "MjqhD-jkS6cP"
      },
      "source": [
        "# **SVM**"
      ]
    },
    {
      "cell_type": "markdown",
      "metadata": {
        "id": "bYYQUs18TRrt"
      },
      "source": [
        "## **Building The Model**"
      ]
    },
    {
      "cell_type": "code",
      "execution_count": 16,
      "metadata": {
        "colab": {
          "base_uri": "https://localhost:8080/"
        },
        "id": "MIt-wgn1S_OA",
        "outputId": "1aecb2a1-3646-430c-b8f3-88bbc052ccbb"
      },
      "outputs": [
        {
          "data": {
            "text/plain": [
              "SVC(C=1000, gamma=0.001, random_state=0)"
            ]
          },
          "execution_count": 16,
          "metadata": {},
          "output_type": "execute_result"
        }
      ],
      "source": [
        "from sklearn.svm import SVC\n",
        "from sklearn.model_selection import LeaveOneOut\n",
        "\n",
        "model = SVC(kernel ='rbf', C = 1000, gamma =0.001,random_state = 0)\n",
        "X_train = X_train.reshape(X_train.shape[0],10000)\n",
        "X_test = X_test.reshape(X_test.shape[0],10000)\n",
        "model.fit(X_train,Y_train)"
      ]
    },
    {
      "cell_type": "markdown",
      "metadata": {
        "id": "jlAgMbWBTTX1"
      },
      "source": [
        "## **Testing The Model**"
      ]
    },
    {
      "cell_type": "code",
      "execution_count": 17,
      "metadata": {
        "colab": {
          "base_uri": "https://localhost:8080/"
        },
        "id": "xTNZ1EifTVis",
        "outputId": "63236a1d-b1a4-42f5-ccd3-5bdcceea0a2d"
      },
      "outputs": [
        {
          "name": "stdout",
          "output_type": "stream",
          "text": [
            "Training Accuaracy: 100.0%\n",
            "Testing Accuaracy: 90.0%\n",
            "Precision: 0.8571428571428571\n",
            "Recall: 0.8595429845379904\n",
            "F1 score: 0.8568435049952878\n"
          ]
        },
        {
          "name": "stderr",
          "output_type": "stream",
          "text": [
            "/usr/local/lib/python3.8/dist-packages/sklearn/metrics/_classification.py:1370: UserWarning: Note that pos_label (set to 'positive') is ignored when average != 'binary' (got 'micro'). You may use labels=[pos_label] to specify a single positive class.\n",
            "  warnings.warn(\n",
            "/usr/local/lib/python3.8/dist-packages/sklearn/metrics/_classification.py:1370: UserWarning: Note that pos_label (set to 'positive') is ignored when average != 'binary' (got 'macro'). You may use labels=[pos_label] to specify a single positive class.\n",
            "  warnings.warn(\n",
            "/usr/local/lib/python3.8/dist-packages/sklearn/metrics/_classification.py:1370: UserWarning: Note that pos_label (set to 'positive') is ignored when average != 'binary' (got 'weighted'). You may use labels=[pos_label] to specify a single positive class.\n",
            "  warnings.warn(\n"
          ]
        }
      ],
      "source": [
        "SVM_Str = ''\n",
        "y_pred = model.predict(X_train)\n",
        "print(f'Training Accuaracy: {round(accuracy_score(Y_train,y_pred),1)*100}%')\n",
        "y_pred2 = model.predict(X_test)\n",
        "print(f'Testing Accuaracy: {round(accuracy_score(Y_test,y_pred2),1)*100}%')\n",
        "\n",
        "# precision tp / (tp + fp)\n",
        "precision = precision_score(Y_test, y_pred2,pos_label='positive',average='micro')\n",
        "print(f'Precision: {precision}')\n",
        "# recall: tp / (tp + fn)\n",
        "recall = recall_score(Y_test, y_pred2,pos_label='positive',average='macro')\n",
        "print(f'Recall: {recall}')\n",
        "# f1: 2 tp / (2 tp + fp + fn)\n",
        "f1 = f1_score(Y_test, y_pred2,pos_label='positive',average='weighted')\n",
        "print(f'F1 score: {f1}')\n",
        "\n",
        "SVM_Str+=('Training Accuaracy: '+ str(round(accuracy_score(Y_train,y_pred),1)*100)+ '%\\n\\n')\n",
        "SVM_Str+=('Testing Accuaracy: '+ str(round(accuracy_score(Y_test,y_pred2),1)*100)+ '%\\n\\n')\n",
        "SVM_Str+=('Precision: '+ str(precision)+ '\\n\\n')\n",
        "SVM_Str+=('Recall: '+ str(recall)+ '\\n\\n')\n",
        "SVM_Str+=('F1 score: '+ str(f1)+ '\\n\\n')"
      ]
    },
    {
      "cell_type": "markdown",
      "metadata": {
        "id": "4VaX0en3YDxt"
      },
      "source": [
        "# **Generating Report**"
      ]
    },
    {
      "cell_type": "code",
      "execution_count": null,
      "metadata": {
        "colab": {
          "base_uri": "https://localhost:8080/",
          "height": 226
        },
        "id": "IKFVA1WyYFx6",
        "outputId": "e336b860-3cc6-4527-a16d-82e755f0a831"
      },
      "outputs": [],
      "source": [
        "print(SVM_Str)\n",
        "\n",
        "# Generating Pdf\n",
        "margin = 8\n",
        "pdf = PDF()\n",
        "pdf.add_page()\n",
        "pdf.set_font('Arial', 'B', 24)\n",
        "pdf.set_text_color(190, 0, 0)\n",
        "pdf.cell(w=0, h=20, txt=\"Experiments Report\", ln=1)\n",
        "pdf.set_text_color(0, 0, 0)\n",
        "pdf.set_font('Arial', 'B', 16)\n",
        "pdf.cell(w=30, h=margin, txt=\"Date: \", ln=0)\n",
        "pdf.cell(w=30, h=margin, txt=str(date.today().strftime(\"%d/%m/%Y\")), ln=1)\n",
        "pdf.cell(w=30, h=margin, txt=\"Time: \", ln=0)\n",
        "pdf.cell(w=30, h=margin, txt=str(datetime.now().strftime(\"%H:%M:%S\")), ln=1)\n",
        "pdf.cell(w=30, h=margin, txt=\"Authors: \", ln=0)\n",
        "pdf.cell(w=30, h=margin, txt=\"Khaled Ashraf, Ahmed Sayed, Ahmed Ebrahim\", ln=1)\n",
        "pdf.cell(w=30, h=margin, txt=\"                   Noura Ashraf, Samaa Khalifa\", ln=1)\n",
        "pdf.ln(margin)\n",
        "# SVM\n",
        "pdf.set_font('Arial', 'B', 24)\n",
        "pdf.set_text_color(16, 63, 145)\n",
        "pdf.cell(0, 8, 'SVM Experiment', 0, 10, 'C')\n",
        "pdf.ln(margin)\n",
        "pdf.set_text_color(0, 0, 0)\n",
        "pdf.set_font('Helvetica', '', 22)\n",
        "pdf.multi_cell(w=0, h=5, txt=str(SVM_Str+'\\n'))\n",
        "pdf.ln(margin)\n",
        "\n",
        "# FFNN\n",
        "pdf.set_font('Arial', 'B', 24)\n",
        "pdf.set_text_color(16, 63, 145)\n",
        "pdf.cell(0, 8, 'FFNN Experiment', 0, 10, 'C')\n",
        "pdf.ln(margin)\n",
        "pdf.set_text_color(0, 0, 0)\n",
        "pdf.set_font('Helvetica', '', 22)\n",
        "pdf.multi_cell(w=0, h=5, txt=str(FFNN_Str+'\\n'))\n",
        "pdf.ln(margin+8)\n",
        "pdf.set_font('Helvetica', 'B', 14)\n",
        "pdf.multi_cell(w=0, h=5, txt=str(FFNN_Str_Table+'\\n'))\n",
        "pdf.ln(margin)\n",
        "\n",
        "# LSTM\n",
        "pdf.set_font('Arial', 'B', 24)\n",
        "pdf.set_text_color(16, 63, 145)\n",
        "pdf.cell(0, 8, 'LSTM Experiment', 0, 10, 'C')\n",
        "pdf.ln(margin)\n",
        "pdf.set_text_color(0, 0, 0)\n",
        "pdf.set_font('Helvetica', '', 22)\n",
        "pdf.multi_cell(w=0, h=5, txt=str(LSTM_Str+'\\n'))\n",
        "pdf.ln(margin*2+12)\n",
        "pdf.set_font('Helvetica', 'B', 14)\n",
        "pdf.multi_cell(w=0, h=5, txt=str(LSTM_Str_Table+'\\n'))\n",
        "pdf.ln(margin)\n",
        "\n",
        "# CNN\n",
        "pdf.set_font('Arial', 'B', 24)\n",
        "pdf.set_text_color(16, 63, 145)\n",
        "pdf.cell(0, 8, 'CNN Experiment', 0, 10, 'C')\n",
        "pdf.ln(margin)\n",
        "pdf.set_text_color(0, 0, 0)\n",
        "pdf.set_font('Helvetica', '', 22)\n",
        "pdf.multi_cell(w=0, h=5, txt=str(CNN_Str+'\\n'))\n",
        "pdf.ln(margin)\n",
        "pdf.set_font('Helvetica', 'B', 14)\n",
        "pdf.multi_cell(w=0, h=5, txt=str(CNN_Str_Table+'\\n'))\n",
        "pdf.ln(margin)\n",
        "\n",
        "pdf.output(f'./Report.pdf', 'F')"
      ]
    }
  ],
  "metadata": {
    "accelerator": "GPU",
    "colab": {
      "provenance": []
    },
    "gpuClass": "standard",
    "kernelspec": {
      "display_name": "Python 3",
      "name": "python3"
    },
    "language_info": {
      "name": "python"
    }
  },
  "nbformat": 4,
  "nbformat_minor": 0
}
